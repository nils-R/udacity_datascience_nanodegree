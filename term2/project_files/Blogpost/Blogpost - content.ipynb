{
 "cells": [
  {
   "cell_type": "markdown",
   "metadata": {
    "ExecuteTime": {
     "end_time": "2019-03-13T12:28:01.866740Z",
     "start_time": "2019-03-13T12:28:01.865740Z"
    }
   },
   "source": [
    "<img src=\"https://upload.wikimedia.org/wikipedia/commons/0/0b/Portr%C3%A4tt%2C_Rudolf_II_som_Vertumnus._Guiseppe_Arcimboldo_-_Skoklosters_slott_-_87582.jpg\" width=\"400\">"
   ]
  },
  {
   "cell_type": "markdown",
   "metadata": {},
   "source": [
    "<font size=\"+3\"><p style=\"text-align: center;\">If your country was a food, what would it be?</p></font>"
   ]
  },
  {
   "cell_type": "markdown",
   "metadata": {},
   "source": [
    "Every year, a flood of new food and nutrition trends are fed to us in media. \"5 meals a day\" is contrasted with intermittent fasting and \"5:2\" recommendations. And just as vegetarian diets are becoming fashionable, counter trends such as Jordan Peterson's \"meat only\" are becoming popular. But how has our food consumption actually changed over the last decades? And how much does it differ between different countries? \n",
    "\n",
    "To answer these questions, we will use a dataset on european food consumption found on the [efsa website](https://data.europa.eu/euodp/data/dataset/the-efsa-comprehensive-european-food-consumption-database/resource/0f73e423-b95a-408b-8e5b-a15de4fc97cf). This is a thourough dataset with consumption statistics for many different age groups and at a low level of granularity. However, to make results interpretable and comparable across countries, we will limit our analysis to adults only and high-level food categories."
   ]
  },
  {
   "cell_type": "markdown",
   "metadata": {
    "ExecuteTime": {
     "end_time": "2019-03-13T13:09:34.615205Z",
     "start_time": "2019-03-13T13:09:34.591205Z"
    }
   },
   "source": [
    "## 1. How has food consumption changed during the last decades?"
   ]
  },
  {
   "cell_type": "markdown",
   "metadata": {
    "ExecuteTime": {
     "end_time": "2019-03-13T13:16:56.014524Z",
     "start_time": "2019-03-13T13:16:55.997925Z"
    }
   },
   "source": [
    "Looking at the data, we can see that some countries have performed the same study at different time intervals. This is an excellent opportunity to investigate if food patterns have evolved over time. One of these countries is Sweden and with the author coming from this country, this seems like an excellent starting point. Let's create a pointplot with the following features:\n",
    "\n",
    "* The period of the study on the x-axis\n",
    "* The relative rank in total food consumption on the y-axis\n",
    "* The difference in absolute rank as the color"
   ]
  },
  {
   "cell_type": "markdown",
   "metadata": {
    "ExecuteTime": {
     "end_time": "2019-03-13T13:16:16.105170Z",
     "start_time": "2019-03-13T13:16:15.828976Z"
    }
   },
   "source": [
    "![](images/swe_lvl1.png)"
   ]
  },
  {
   "cell_type": "markdown",
   "metadata": {},
   "source": [
    "From this simple graph we can draw a number of conclusions:\n",
    "\n",
    "* Beverages make up the largest quantities in both studies\n",
    "* Trends in healthy eating seem to be reflected in the high-level changes in consumption: Less snacks, fats and alcohol; more fish, vegetables and non-sweetened beverages\n",
    "* Despite vegetarian and vegan food becoming more popular, meat consumption has actually increased"
   ]
  },
  {
   "cell_type": "markdown",
   "metadata": {
    "ExecuteTime": {
     "end_time": "2019-03-13T13:56:37.513805Z",
     "start_time": "2019-03-13T13:56:37.508805Z"
    }
   },
   "source": [
    "Let's take a closer look at beverages, as well as meat vs vegetables:"
   ]
  },
  {
   "cell_type": "markdown",
   "metadata": {},
   "source": [
    "![](images/swe_lvl2.png)"
   ]
  },
  {
   "cell_type": "markdown",
   "metadata": {},
   "source": [
    "This deep-dive adds nuance to the overall patterns:\n",
    "\n",
    "* From being pre-dominantly a beer country, alcohol intake is now mixed between wine and beer. Assuming a 14% vs 5% alcohol content, wine actually makes up a larger share of total alcohol intake\n",
    "* There has been a shift from sugary beverages (soft drinks, juices) to regular drinking water\n",
    "* Despite all (non-fruit) vegetable categories increasing, meat consumption has gone up in all major categories except sausages\n",
    "\n",
    "\\* The fine details of the study notes that respondents had a hard time differenting between juices and nectars. Therefore, these categories are treated as the same. In aggregate, this category has decreased by more than 25% "
   ]
  },
  {
   "cell_type": "markdown",
   "metadata": {
    "ExecuteTime": {
     "end_time": "2019-03-13T14:01:39.440591Z",
     "start_time": "2019-03-13T14:01:39.424992Z"
    }
   },
   "source": [
    "Let's dive into the beatiful world of data and statistics to get the answer:"
   ]
  },
  {
   "cell_type": "markdown",
   "metadata": {},
   "source": [
    "## 2. What food categories are popular together?"
   ]
  },
  {
   "cell_type": "markdown",
   "metadata": {
    "ExecuteTime": {
     "start_time": "2019-03-13T14:45:40.814Z"
    }
   },
   "source": [
    "Next, let's investigate the relationship between different food products. This can be done with a correlation matrix:"
   ]
  },
  {
   "cell_type": "markdown",
   "metadata": {
    "ExecuteTime": {
     "end_time": "2019-03-13T15:12:03.566363Z",
     "start_time": "2019-03-13T15:12:03.096251Z"
    }
   },
   "source": [
    "![](images/correlation.png)"
   ]
  },
  {
   "cell_type": "markdown",
   "metadata": {},
   "source": [
    "From this chart, a number of interesting relationships can be found:\n",
    "\n",
    "* High levels of animal and vegetable fats is very correlated to high intakes of animal products such as meat and eggs, but also to vegetables. \n",
    "* Composite food is negatively related to all fresh food such as vegetables, meat and fruit. And positively related to additives and sugary beverages\n",
    "* Surprisingly, drinking water is positively correlated to all other beverage categories\n",
    "\n",
    "It is important to remember that these relationships are for averages at country level and not for individuals. Still, it gives some insight into the consumption patterns at an aggregated level"
   ]
  },
  {
   "cell_type": "markdown",
   "metadata": {},
   "source": [
    "## 3. What countries have similar food consumption and what food items are representative of these clusters?"
   ]
  },
  {
   "cell_type": "markdown",
   "metadata": {},
   "source": [
    "Lastly, let's see if we can find out what countries have similar consumption patterns, as well as what food items are typical for each cluster. To do this, we apply a technique called Principal Component Analysis (PCA) which lets us reduce the amount of variables. While this will make us lose some of the information in the data, it reduces complexity and makes it much easier to interpret the results."
   ]
  },
  {
   "cell_type": "markdown",
   "metadata": {},
   "source": [
    "First, we'll plot each country on the principal components axises. We will also plot the center of each cluster:"
   ]
  },
  {
   "cell_type": "markdown",
   "metadata": {
    "ExecuteTime": {
     "end_time": "2019-03-13T16:18:14.070215Z",
     "start_time": "2019-03-13T16:18:13.568415Z"
    }
   },
   "source": [
    "![](images/scores2.png)"
   ]
  },
  {
   "cell_type": "markdown",
   "metadata": {},
   "source": [
    "Interesting - we seem to have a latin, an eastern european and a germanic cluster. We also has a cluster that is less intuitive, consisting of Ireland, Czech Republic and Denmark. Let's compare these clusters to how the food items contribute to each axis:"
   ]
  },
  {
   "cell_type": "markdown",
   "metadata": {
    "ExecuteTime": {
     "end_time": "2019-03-13T16:18:14.070215Z",
     "start_time": "2019-03-13T16:18:13.568415Z"
    }
   },
   "source": [
    "![](images/loadings2.png)"
   ]
  },
  {
   "cell_type": "markdown",
   "metadata": {},
   "source": [
    "Not surprisingly, the latin countries have a high consumption of fruit and seafood while the eastern european cluster has a high degree of fats and animal products. We also get an explanation to the not immediately obvious cluster of Ireland, Czech and Denmark - they all have high volumes of carbohydrates such as grains, sugar, beer and potatoes."
   ]
  },
  {
   "cell_type": "markdown",
   "metadata": {},
   "source": [
    "## Summary"
   ]
  },
  {
   "cell_type": "markdown",
   "metadata": {},
   "source": [
    "As can be seen, we could learn a lot about changes and similarities in consumption just by looking at the top categories. To learn even more, one could look at food items at a more detailed level. Or perhaps some select foods of special interest - whatever ticks your interest. Download the [data](https://data.europa.eu/euodp/data/dataset/the-efsa-comprehensive-european-food-consumption-database/resource/0f73e423-b95a-408b-8e5b-a15de4fc97cf) and have a go yourself!"
   ]
  },
  {
   "cell_type": "markdown",
   "metadata": {
    "ExecuteTime": {
     "end_time": "2019-03-17T19:13:05.468326Z",
     "start_time": "2019-03-17T19:13:05.443726Z"
    }
   },
   "source": [
    "Lastly - what cluster does your home country belong to? And what food items are defining that cluster? Let me know in the comments section below!"
   ]
  }
 ],
 "metadata": {
  "hide_input": false,
  "kernelspec": {
   "display_name": "Python 3",
   "language": "python",
   "name": "python3"
  },
  "language_info": {
   "codemirror_mode": {
    "name": "ipython",
    "version": 3
   },
   "file_extension": ".py",
   "mimetype": "text/x-python",
   "name": "python",
   "nbconvert_exporter": "python",
   "pygments_lexer": "ipython3",
   "version": "3.7.1"
  },
  "varInspector": {
   "cols": {
    "lenName": 16,
    "lenType": 16,
    "lenVar": 40
   },
   "kernels_config": {
    "python": {
     "delete_cmd_postfix": "",
     "delete_cmd_prefix": "del ",
     "library": "var_list.py",
     "varRefreshCmd": "print(var_dic_list())"
    },
    "r": {
     "delete_cmd_postfix": ") ",
     "delete_cmd_prefix": "rm(",
     "library": "var_list.r",
     "varRefreshCmd": "cat(var_dic_list()) "
    }
   },
   "types_to_exclude": [
    "module",
    "function",
    "builtin_function_or_method",
    "instance",
    "_Feature"
   ],
   "window_display": false
  }
 },
 "nbformat": 4,
 "nbformat_minor": 2
}
