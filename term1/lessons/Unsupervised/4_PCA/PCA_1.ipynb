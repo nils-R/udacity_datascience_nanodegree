{
 "cells": [
  {
   "cell_type": "markdown",
   "metadata": {},
   "source": [
    "### Your Turn\n",
    "\n",
    "In the previous video, you saw an example of working with some MNIST digits data.  A link to the dataset can be found here: http://yann.lecun.com/exdb/mnist/.\n",
    "\n",
    "First, let's import the necessary libraries.  Notice, there are also some imports from a file called `helper_functions`, which contains the functions used in the previous video."
   ]
  },
  {
   "cell_type": "code",
<<<<<<< HEAD
   "execution_count": 1,
=======
   "execution_count": null,
>>>>>>> 9352bee0e42f12849428b4fdb1b305840ac835cd
   "metadata": {},
   "outputs": [],
   "source": [
    "import pandas as pd\n",
    "import numpy as np\n",
    "from sklearn.decomposition import PCA\n",
    "from sklearn.preprocessing import StandardScaler\n",
    "from sklearn.ensemble import RandomForestClassifier\n",
    "from sklearn.model_selection import train_test_split\n",
    "from sklearn.metrics import confusion_matrix, accuracy_score\n",
    "from helper_functions import show_images, show_images_by_digit, fit_random_forest_classifier2 \n",
    "from helper_functions import fit_random_forest_classifier, do_pca, plot_components\n",
    "import test_code as t\n",
    "\n",
    "import matplotlib.image as mpimg\n",
    "import matplotlib.pyplot as plt\n",
    "import seaborn as sns\n",
    "\n",
    "%matplotlib inline"
   ]
  },
  {
   "cell_type": "markdown",
   "metadata": {},
   "source": [
    "`1.` Use pandas to read in the dataset, which can be found at the following address **'./data/train.csv'**.  If you have missing values, fill them with 0.  Take a look at info about the data using `head`, `tail`, `describe`, `info`, etc.  You can learn more about the data values from the article here: https://homepages.inf.ed.ac.uk/rbf/HIPR2/value.htm."
   ]
  },
  {
   "cell_type": "code",
<<<<<<< HEAD
   "execution_count": 48,
   "metadata": {},
   "outputs": [
    {
     "data": {
      "text/html": [
       "<div>\n",
       "<style scoped>\n",
       "    .dataframe tbody tr th:only-of-type {\n",
       "        vertical-align: middle;\n",
       "    }\n",
       "\n",
       "    .dataframe tbody tr th {\n",
       "        vertical-align: top;\n",
       "    }\n",
       "\n",
       "    .dataframe thead th {\n",
       "        text-align: right;\n",
       "    }\n",
       "</style>\n",
       "<table border=\"1\" class=\"dataframe\">\n",
       "  <thead>\n",
       "    <tr style=\"text-align: right;\">\n",
       "      <th></th>\n",
       "      <th>label</th>\n",
       "      <th>pixel0</th>\n",
       "      <th>pixel1</th>\n",
       "      <th>pixel2</th>\n",
       "      <th>pixel3</th>\n",
       "      <th>pixel4</th>\n",
       "      <th>pixel5</th>\n",
       "      <th>pixel6</th>\n",
       "      <th>pixel7</th>\n",
       "      <th>pixel8</th>\n",
       "      <th>...</th>\n",
       "      <th>pixel774</th>\n",
       "      <th>pixel775</th>\n",
       "      <th>pixel776</th>\n",
       "      <th>pixel777</th>\n",
       "      <th>pixel778</th>\n",
       "      <th>pixel779</th>\n",
       "      <th>pixel780</th>\n",
       "      <th>pixel781</th>\n",
       "      <th>pixel782</th>\n",
       "      <th>pixel783</th>\n",
       "    </tr>\n",
       "  </thead>\n",
       "  <tbody>\n",
       "    <tr>\n",
       "      <th>0</th>\n",
       "      <td>1</td>\n",
       "      <td>0</td>\n",
       "      <td>0</td>\n",
       "      <td>0</td>\n",
       "      <td>0</td>\n",
       "      <td>0</td>\n",
       "      <td>0</td>\n",
       "      <td>0</td>\n",
       "      <td>0</td>\n",
       "      <td>0</td>\n",
       "      <td>...</td>\n",
       "      <td>0.0</td>\n",
       "      <td>0.0</td>\n",
       "      <td>0.0</td>\n",
       "      <td>0.0</td>\n",
       "      <td>0.0</td>\n",
       "      <td>0.0</td>\n",
       "      <td>0.0</td>\n",
       "      <td>0.0</td>\n",
       "      <td>0.0</td>\n",
       "      <td>0.0</td>\n",
       "    </tr>\n",
       "    <tr>\n",
       "      <th>1</th>\n",
       "      <td>0</td>\n",
       "      <td>0</td>\n",
       "      <td>0</td>\n",
       "      <td>0</td>\n",
       "      <td>0</td>\n",
       "      <td>0</td>\n",
       "      <td>0</td>\n",
       "      <td>0</td>\n",
       "      <td>0</td>\n",
       "      <td>0</td>\n",
       "      <td>...</td>\n",
       "      <td>0.0</td>\n",
       "      <td>0.0</td>\n",
       "      <td>0.0</td>\n",
       "      <td>0.0</td>\n",
       "      <td>0.0</td>\n",
       "      <td>0.0</td>\n",
       "      <td>0.0</td>\n",
       "      <td>0.0</td>\n",
       "      <td>0.0</td>\n",
       "      <td>0.0</td>\n",
       "    </tr>\n",
       "    <tr>\n",
       "      <th>2</th>\n",
       "      <td>1</td>\n",
       "      <td>0</td>\n",
       "      <td>0</td>\n",
       "      <td>0</td>\n",
       "      <td>0</td>\n",
       "      <td>0</td>\n",
       "      <td>0</td>\n",
       "      <td>0</td>\n",
       "      <td>0</td>\n",
       "      <td>0</td>\n",
       "      <td>...</td>\n",
       "      <td>0.0</td>\n",
       "      <td>0.0</td>\n",
       "      <td>0.0</td>\n",
       "      <td>0.0</td>\n",
       "      <td>0.0</td>\n",
       "      <td>0.0</td>\n",
       "      <td>0.0</td>\n",
       "      <td>0.0</td>\n",
       "      <td>0.0</td>\n",
       "      <td>0.0</td>\n",
       "    </tr>\n",
       "    <tr>\n",
       "      <th>3</th>\n",
       "      <td>4</td>\n",
       "      <td>0</td>\n",
       "      <td>0</td>\n",
       "      <td>0</td>\n",
       "      <td>0</td>\n",
       "      <td>0</td>\n",
       "      <td>0</td>\n",
       "      <td>0</td>\n",
       "      <td>0</td>\n",
       "      <td>0</td>\n",
       "      <td>...</td>\n",
       "      <td>0.0</td>\n",
       "      <td>0.0</td>\n",
       "      <td>0.0</td>\n",
       "      <td>0.0</td>\n",
       "      <td>0.0</td>\n",
       "      <td>0.0</td>\n",
       "      <td>0.0</td>\n",
       "      <td>0.0</td>\n",
       "      <td>0.0</td>\n",
       "      <td>0.0</td>\n",
       "    </tr>\n",
       "    <tr>\n",
       "      <th>4</th>\n",
       "      <td>0</td>\n",
       "      <td>0</td>\n",
       "      <td>0</td>\n",
       "      <td>0</td>\n",
       "      <td>0</td>\n",
       "      <td>0</td>\n",
       "      <td>0</td>\n",
       "      <td>0</td>\n",
       "      <td>0</td>\n",
       "      <td>0</td>\n",
       "      <td>...</td>\n",
       "      <td>0.0</td>\n",
       "      <td>0.0</td>\n",
       "      <td>0.0</td>\n",
       "      <td>0.0</td>\n",
       "      <td>0.0</td>\n",
       "      <td>0.0</td>\n",
       "      <td>0.0</td>\n",
       "      <td>0.0</td>\n",
       "      <td>0.0</td>\n",
       "      <td>0.0</td>\n",
       "    </tr>\n",
       "  </tbody>\n",
       "</table>\n",
       "<p>5 rows × 785 columns</p>\n",
       "</div>"
      ],
      "text/plain": [
       "   label  pixel0  pixel1  pixel2  pixel3  pixel4  pixel5  pixel6  pixel7  \\\n",
       "0      1       0       0       0       0       0       0       0       0   \n",
       "1      0       0       0       0       0       0       0       0       0   \n",
       "2      1       0       0       0       0       0       0       0       0   \n",
       "3      4       0       0       0       0       0       0       0       0   \n",
       "4      0       0       0       0       0       0       0       0       0   \n",
       "\n",
       "   pixel8    ...     pixel774  pixel775  pixel776  pixel777  pixel778  \\\n",
       "0       0    ...          0.0       0.0       0.0       0.0       0.0   \n",
       "1       0    ...          0.0       0.0       0.0       0.0       0.0   \n",
       "2       0    ...          0.0       0.0       0.0       0.0       0.0   \n",
       "3       0    ...          0.0       0.0       0.0       0.0       0.0   \n",
       "4       0    ...          0.0       0.0       0.0       0.0       0.0   \n",
       "\n",
       "   pixel779  pixel780  pixel781  pixel782  pixel783  \n",
       "0       0.0       0.0       0.0       0.0       0.0  \n",
       "1       0.0       0.0       0.0       0.0       0.0  \n",
       "2       0.0       0.0       0.0       0.0       0.0  \n",
       "3       0.0       0.0       0.0       0.0       0.0  \n",
       "4       0.0       0.0       0.0       0.0       0.0  \n",
       "\n",
       "[5 rows x 785 columns]"
      ]
     },
     "execution_count": 48,
     "metadata": {},
     "output_type": "execute_result"
    }
   ],
   "source": [
    "df = pd.read_csv('./data/train.csv')\n",
    "df = df.fillna(0)\n",
    "df.head()"
   ]
=======
   "execution_count": null,
   "metadata": {
    "collapsed": true
   },
   "outputs": [],
   "source": []
>>>>>>> 9352bee0e42f12849428b4fdb1b305840ac835cd
  },
  {
   "cell_type": "markdown",
   "metadata": {},
   "source": [
    "`2.` Create a vector called **y** that holds the **label** column of the dataset.  Store all other columns holding the pixel data of your images in **X**."
   ]
  },
  {
   "cell_type": "code",
<<<<<<< HEAD
   "execution_count": 50,
   "metadata": {},
   "outputs": [],
   "source": [
    "y = df.iloc[:,0]\n",
    "X = df.drop('label', axis=1)"
   ]
  },
  {
   "cell_type": "code",
   "execution_count": 51,
   "metadata": {},
   "outputs": [
    {
     "name": "stdout",
     "output_type": "stream",
     "text": [
      "That looks right!\n"
     ]
    }
   ],
=======
   "execution_count": null,
   "metadata": {
    "collapsed": true
   },
   "outputs": [],
   "source": []
  },
  {
   "cell_type": "code",
   "execution_count": null,
   "metadata": {},
   "outputs": [],
>>>>>>> 9352bee0e42f12849428b4fdb1b305840ac835cd
   "source": [
    "#Check Your Solution \n",
    "t.question_two_check(y, X)"
   ]
  },
  {
   "cell_type": "markdown",
   "metadata": {},
   "source": [
    "`3.` Now use the `show_images_by_digit` function from the `helper_functions` module to take a look some of the `1`'s, `2`'s, `3`'s, or any other value you are interested in looking at.  Do they all look like what you would expect?"
   ]
  },
  {
   "cell_type": "code",
<<<<<<< HEAD
   "execution_count": 16,
   "metadata": {},
   "outputs": [
    {
     "name": "stderr",
     "output_type": "stream",
     "text": [
      "/Users/nilsrandau/Documents/Python/udacity_data_science_nanodegree/lessons/Unsupervised/4_PCA/helper_functions.py:63: FutureWarning: Method .as_matrix will be removed in a future version. Use .values instead.\n",
      "  mat_data = X.iloc[indices[0][digit_num]].as_matrix().reshape(28,28)  #reshape images\n"
     ]
    },
    {
     "data": {
      "image/png": "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\n",
      "text/plain": [
       "<Figure size 432x288 with 50 Axes>"
      ]
     },
     "metadata": {},
     "output_type": "display_data"
    }
   ],
   "source": [
    "show_images_by_digit(4) # Try looking at a few other digits"
=======
   "execution_count": null,
   "metadata": {},
   "outputs": [],
   "source": [
    "show_images_by_digit(2) # Try looking at a few other digits"
>>>>>>> 9352bee0e42f12849428b4fdb1b305840ac835cd
   ]
  },
  {
   "cell_type": "markdown",
   "metadata": {},
   "source": [
    "`4.` Now that you have had a chance to look through some of the data, you can try some different algorithms to see what works well to use the X matrix to predict the response well.  If you would like to use the function I used in the video regarding random forests, you can run the code below, but you might also try any of the supervised techniques you learned in the previous course to see what works best.\n",
    "\n",
    "If you decide to put together your own classifier, remember the 4 steps to this process:\n",
    "\n",
    "**I.** Instantiate your model. (with all the hyperparameter values you care about)\n",
    "\n",
    "**II.** Fit your model. (to the training data)\n",
    "\n",
    "**III.** Predict using your fitted model.  (on the test data)\n",
    "\n",
    "**IV.** Score your model. (comparing the predictions to the actual values on the test data)\n",
    "\n",
    "You can also try a grid search to see if you can improve on your initial predictions."
   ]
  },
  {
   "cell_type": "code",
<<<<<<< HEAD
   "execution_count": 54,
   "metadata": {},
   "outputs": [
    {
     "data": {
      "text/plain": [
       "0.8147208121827412"
      ]
     },
     "execution_count": 54,
     "metadata": {},
     "output_type": "execute_result"
    }
   ],
   "source": [
    "from sklearn.linear_model import LogisticRegression\n",
    "\n",
    "X_train, X_test, y_train, y_test = train_test_split(X,y)\n",
    "\n",
    "model = LogisticRegression(penalty='l2')\n",
    "model.fit(X_train, y_train)\n",
    "y_pred = model.predict(X_test)\n",
    "acc = accuracy_score(y_test, y_pred)\n",
    "acc"
   ]
  },
  {
   "cell_type": "code",
   "execution_count": 55,
   "metadata": {},
   "outputs": [
    {
     "name": "stdout",
     "output_type": "stream",
     "text": [
      "[[200   0   1   0   0   1   7   0   0   0]\n",
      " [  0 236   1   1   0   0   2   2   1   0]\n",
      " [  2   5 213   0   1   0   1   5   0   1]\n",
      " [  3   0   6 170   0   7   0   1   2   2]\n",
      " [  1   0   1   0 168   0   1   0   0   7]\n",
      " [  3   1   0   4   1 171   3   0   3   0]\n",
      " [  2   0   2   0   1   2 204   0   0   0]\n",
      " [  1   1   7   1   4   0   0 204   2   5]\n",
      " [  0   2   0   6   0   5   0   0 187   2]\n",
      " [  3   0   0   3  13   1   0   1   2 185]]\n",
      "0.9312830370014417\n"
     ]
    },
    {
     "data": {
      "text/plain": [
       "0.9312830370014417"
      ]
     },
     "execution_count": 55,
     "metadata": {},
     "output_type": "execute_result"
    }
   ],
   "source": [
    "# Remove the tag to fit the RF model from the video, you can also try fitting your own!\n",
    "fit_random_forest_classifier(X, y)"
=======
   "execution_count": null,
   "metadata": {},
   "outputs": [],
   "source": [
    "# Remove the tag to fit the RF model from the video, you can also try fitting your own!\n",
    "# fit_random_forest_classifier(X, y)"
>>>>>>> 9352bee0e42f12849428b4fdb1b305840ac835cd
   ]
  },
  {
   "cell_type": "markdown",
   "metadata": {},
   "source": [
    "`5.` Now the purpose of this lesson, to look at PCA.  In the video, I created a model just using two features.  Replicate the process below. You can use the same `do_pca` function that was created in the previous video.  Store your variables in **pca** and **X_pca**."
   ]
  },
  {
   "cell_type": "code",
<<<<<<< HEAD
   "execution_count": 57,
   "metadata": {},
   "outputs": [],
   "source": [
    "pca, X_pca = do_pca(2, X_train)"
=======
   "execution_count": null,
   "metadata": {},
   "outputs": [],
   "source": [
    "do_pca?"
>>>>>>> 9352bee0e42f12849428b4fdb1b305840ac835cd
   ]
  },
  {
   "cell_type": "markdown",
   "metadata": {},
   "source": [
    "`6.` The **X_pca** has moved the original more than 700 features down to only 2 features that capture the majority of the variability in the pixel values.  Use the space below to fit a model using these two features to predict the written value.  You can use the random forest model by running `fit_random_forest_classifier` the same way as in the video. How well does it perform?"
   ]
  },
  {
   "cell_type": "code",
<<<<<<< HEAD
   "execution_count": 69,
   "metadata": {},
   "outputs": [
    {
     "name": "stdout",
     "output_type": "stream",
     "text": [
      "[[102   0  30   6   4   2  21   2   6   0]\n",
      " [  0 138   0   1   1   5   2   3   7  13]\n",
      " [ 35   1  43  20  11  12  30   3  11   5]\n",
      " [ 15   1  23  16  18  11  18  18  14  12]\n",
      " [  6   5  18  19  25  17  13  18  18  22]\n",
      " [  7   0  20  18  10  18  30   5  20  10]\n",
      " [ 22   1  29  11   6  18  34   4  22   2]\n",
      " [  0  10   7   9  21   7   5  67   9  47]\n",
      " [  2   3  23  13  12  25  17   5  26   9]\n",
      " [  2   7   6   9  16   2   3  48   5  38]]\n",
      "0.324791800128123\n"
     ]
    },
    {
     "data": {
      "text/plain": [
       "0.324791800128123"
      ]
     },
     "execution_count": 69,
     "metadata": {},
     "output_type": "execute_result"
    }
   ],
   "source": [
    "fit_random_forest_classifier(X_pca, y_train)"
=======
   "execution_count": null,
   "metadata": {},
   "outputs": [],
   "source": [
    "fit_random_forest_classifier?"
>>>>>>> 9352bee0e42f12849428b4fdb1b305840ac835cd
   ]
  },
  {
   "cell_type": "markdown",
   "metadata": {},
   "source": [
    "`7.` Now you can look at the separation of the values using the `plot_components` function.  If you plot all of the points (more than 40,000), you will likely not be able to see much of what is happening.  I recommend plotting just a subset of the data.  Which value(s) have some separation that are being predicted better than others based on these two components?"
   ]
  },
  {
   "cell_type": "code",
<<<<<<< HEAD
   "execution_count": 70,
   "metadata": {},
   "outputs": [
    {
     "data": {
      "image/png": "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\n",
      "text/plain": [
       "<Figure size 720x432 with 1 Axes>"
      ]
     },
     "metadata": {},
     "output_type": "display_data"
    }
   ],
=======
   "execution_count": null,
   "metadata": {},
   "outputs": [],
>>>>>>> 9352bee0e42f12849428b4fdb1b305840ac835cd
   "source": [
    "# Try plotting some of the numbers below - you can change the number\n",
    "# of digits that are plotted, but it is probably best not to plot the \n",
    "# entire dataset.  Your visual will not be readable.\n",
    "\n",
<<<<<<< HEAD
    "plot_components(X_pca[:20], y[:20])"
=======
    "# plot_components(X_pca[:100], y[:100])"
>>>>>>> 9352bee0e42f12849428b4fdb1b305840ac835cd
   ]
  },
  {
   "cell_type": "markdown",
   "metadata": {},
   "source": [
    "`8.` See if you can find a reduced number of features that provides better separation to make predictions.  Say you want to get separation that allows for accuracy of more than 90%, how many principal components are needed to obtain this level of accuracy?  Were you able to substantially reduce the number of features needed in your final model?"
   ]
  },
  {
   "cell_type": "code",
<<<<<<< HEAD
   "execution_count": 71,
   "metadata": {},
   "outputs": [
    {
     "name": "stdout",
     "output_type": "stream",
     "text": [
      "[[101   0  28   8   3   4  22   2   5   0]\n",
      " [  0 138   0   1   2   5   1   3   7  13]\n",
      " [ 34   1  46  16  14  12  32   3  11   2]\n",
      " [ 16   1  27  15  20   8  13  15  18  13]\n",
      " [  7   6  18  21  24  18  12  14  19  22]\n",
      " [  5   0  22  20  11  13  31   3  25   8]\n",
      " [ 22   1  31  14   4  19  34   4  18   2]\n",
      " [  1  10   5  12  19   6   4  71   9  45]\n",
      " [  1   4  17  13  11  27  19   8  28   7]\n",
      " [  2   7   6  11  17   2   3  45   3  40]]\n",
      "0.32671364509929535\n",
      "[[154   0   6   0   1   4   0   0   7   1]\n",
      " [  0 163   0   1   0   1   1   2   2   0]\n",
      " [ 16   2 118  10   3   5  11   2   4   0]\n",
      " [  1   2   8  94   1  18   1   3  16   2]\n",
      " [  2   0   4   0 102   4   7   6   1  35]\n",
      " [  4   0   3  14   3  59   1   9  39   6]\n",
      " [  7   0   6   0   3   0 131   0   2   0]\n",
      " [  1   7   0   0  16   3   0 136   1  18]\n",
      " [ 10   0   3  10   3  31   1   2  73   2]\n",
      " [  2   0   0   0  24   6   1  11   3  89]]\n",
      "0.7168481742472774\n",
      "[[164   0   1   0   1   3   1   0   3   0]\n",
      " [  0 164   0   3   1   0   1   0   1   0]\n",
      " [  1   2 154   5   1   0   1   4   3   0]\n",
      " [  0   2   4 119   1   4   1   1  13   1]\n",
      " [  0   0   1   0 127   0   7   2   0  24]\n",
      " [  6   0   1   9   1 100   2   1   9   9]\n",
      " [  4   0   1   0   0   4 140   0   0   0]\n",
      " [  2   4   2   0   4   2   0 148   2  18]\n",
      " [  0   0   0   6   5   8   1   1 111   3]\n",
      " [  1   0   2   1  10   2   0   4   5 111]]\n",
      "0.8571428571428571\n",
      "[[167   0   0   0   1   2   1   0   2   0]\n",
      " [  0 164   0   1   0   2   2   0   1   0]\n",
      " [  2   3 153   4   2   1   1   3   2   0]\n",
      " [  0   2   2 123   1   3   1   2   8   4]\n",
      " [  0   0   3   1 138   0   3   2   0  14]\n",
      " [  4   1   1   5   2 112   2   0   7   4]\n",
      " [  4   0   2   0   0   3 140   0   0   0]\n",
      " [  1   5   2   0   2   0   0 156   1  15]\n",
      " [  0   0   3   7   1   9   1   1 110   3]\n",
      " [  0   0   1   3   7   0   0   5   1 119]]\n",
      "0.8853299167200512\n",
      "[[167   0   0   0   1   2   1   0   1   1]\n",
      " [  0 163   0   2   1   1   2   0   1   0]\n",
      " [  2   3 154   2   1   0   1   5   3   0]\n",
      " [  0   1   2 127   1   3   1   2   6   3]\n",
      " [  1   0   1   1 143   0   3   2   0  10]\n",
      " [  4   0   1   6   0 113   3   1   4   6]\n",
      " [  4   0   2   0   0   3 140   0   0   0]\n",
      " [  1   3   5   0   4   0   0 151   1  17]\n",
      " [  0   0   2   6   0  11   1   1 112   2]\n",
      " [  0   0   1   1   4   1   0   7   1 121]]\n",
      "0.8910954516335682\n",
      "[[167   0   0   0   0   2   2   0   2   0]\n",
      " [  0 164   0   1   1   1   2   0   1   0]\n",
      " [  2   3 156   3   0   0   1   3   3   0]\n",
      " [  0   1   4 127   1   4   0   2   7   0]\n",
      " [  1   0   1   1 140   0   5   2   0  11]\n",
      " [  2   0   0   5   0 115   3   1   5   7]\n",
      " [  4   0   3   0   0   2 139   0   1   0]\n",
      " [  1   4   2   0   6   0   0 156   0  13]\n",
      " [  1   0   3   7   0   9   1   2 110   2]\n",
      " [  0   0   2   1   5   0   0   8   1 119]]\n",
      "0.8923766816143498\n",
      "[[168   0   0   0   1   1   0   0   2   1]\n",
      " [  0 165   1   1   1   0   1   0   1   0]\n",
      " [  2   3 154   3   1   0   0   5   3   0]\n",
      " [  0   2   4 130   1   0   1   0   6   2]\n",
      " [  1   0   2   0 142   0   4   2   0  10]\n",
      " [  3   0   0   4   0 116   2   1   6   6]\n",
      " [  4   0   3   0   0   3 138   0   1   0]\n",
      " [  1   2   1   0   6   1   0 157   1  13]\n",
      " [  0   0   3   6   2   7   1   1 111   4]\n",
      " [  0   0   2   3   5   0   0   6   1 119]]\n",
      "0.8968609865470852\n",
      "[[168   0   1   1   1   0   0   0   2   0]\n",
      " [  0 166   0   1   1   1   1   0   0   0]\n",
      " [  1   3 155   4   0   0   1   4   3   0]\n",
      " [  0   1   4 132   1   0   0   3   5   0]\n",
      " [  1   0   2   0 142   0   4   2   1   9]\n",
      " [  2   0   0   8   1 115   1   0   4   7]\n",
      " [  4   0   4   0   0   2 138   0   1   0]\n",
      " [  2   4   3   1   4   0   0 156   0  12]\n",
      " [  0   0   2   9   0   6   2   1 112   3]\n",
      " [  1   0   1   3   4   0   0   5   1 121]]\n",
      "0.9000640614990391\n"
     ]
    },
    {
     "data": {
      "text/plain": [
       "40"
      ]
     },
     "execution_count": 71,
     "metadata": {},
     "output_type": "execute_result"
    }
   ],
   "source": [
    "comp = 10\n",
    "while fit_random_forest_classifier(X_pca, y_train) < 0.90:\n",
    "    pca, X_pca = do_pca(comp, X_train)\n",
    "    comp+=10\n",
    "\n",
    "comp"
   ]
=======
   "execution_count": null,
   "metadata": {},
   "outputs": [],
   "source": []
>>>>>>> 9352bee0e42f12849428b4fdb1b305840ac835cd
  },
  {
   "cell_type": "markdown",
   "metadata": {},
   "source": [
    "`9.` It is possible that extra features in the dataset even lead to overfitting or the [curse of dimensionality](https://stats.stackexchange.com/questions/65379/machine-learning-curse-of-dimensionality-explained).  Do you have evidence of this happening for this dataset?  Can you support your evidence with a visual or table?  To avoid printing out all of the metric results, I created another function called `fit_random_forest_classifier2`.  I ran through a significant number of components to create the visual for the solution, but I strongly recommend you look in the range below 100 principal components!"
   ]
  },
  {
   "cell_type": "code",
<<<<<<< HEAD
   "execution_count": 73,
   "metadata": {},
   "outputs": [
    {
     "data": {
      "text/plain": [
       "[0.7187700192184497,\n",
       " 0.8577834721332479,\n",
       " 0.8834080717488789,\n",
       " 0.8955797565663036,\n",
       " 0.8898142216527867,\n",
       " 0.8975016015374759,\n",
       " 0.9013452914798207,\n",
       " 0.8930172966047405,\n",
       " 0.8955797565663036,\n",
       " 0.8981422165278667,\n",
       " 0.8968609865470852,\n",
       " 0.8930172966047405,\n",
       " 0.9000640614990391,\n",
       " 0.8962203715566944,\n",
       " 0.8987828315182576,\n",
       " 0.8975016015374759,\n",
       " 0.8975016015374759,\n",
       " 0.8923766816143498,\n",
       " 0.8975016015374759,\n",
       " 0.8840486867392697]"
      ]
     },
     "execution_count": 73,
     "metadata": {},
     "output_type": "execute_result"
    }
   ],
   "source": [
    "accs = []\n",
    "comp = 5\n",
    "\n",
    "for comp in range(5,105,5):\n",
    "    pca, X_pca = do_pca(comp, X_train)\n",
    "    accs.append(fit_random_forest_classifier2(X_pca, y_train))\n",
    "\n",
    "accs"
   ]
  },
  {
   "cell_type": "code",
   "execution_count": 97,
   "metadata": {},
   "outputs": [
    {
     "data": {
      "text/plain": [
       "'Max accuracy (90.13%) at 40 components'"
      ]
     },
     "execution_count": 97,
     "metadata": {},
     "output_type": "execute_result"
    },
    {
     "data": {
      "image/png": "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\n",
      "text/plain": [
       "<Figure size 432x288 with 1 Axes>"
      ]
     },
     "metadata": {
      "needs_background": "light"
     },
     "output_type": "display_data"
    }
   ],
   "source": [
    "plt.plot(range(5,105,5), accs, color='b', marker='x')\n",
    "'Max accuracy ({b:.2%}) at {a} components'.format(a=5+5*(np.argmax(accs)+1), b=max(accs))\n",
    "#plt.ylim(0)"
   ]
=======
   "execution_count": null,
   "metadata": {
    "collapsed": true
   },
   "outputs": [],
   "source": []
  },
  {
   "cell_type": "code",
   "execution_count": null,
   "metadata": {},
   "outputs": [],
   "source": []
>>>>>>> 9352bee0e42f12849428b4fdb1b305840ac835cd
  },
  {
   "cell_type": "code",
   "execution_count": null,
   "metadata": {},
   "outputs": [],
   "source": []
  },
  {
   "cell_type": "markdown",
   "metadata": {},
   "source": []
  },
  {
   "cell_type": "code",
   "execution_count": null,
   "metadata": {
    "collapsed": true
   },
   "outputs": [],
   "source": []
  }
 ],
 "metadata": {
  "kernelspec": {
<<<<<<< HEAD
   "display_name": "Python [default]",
=======
   "display_name": "Python 3",
>>>>>>> 9352bee0e42f12849428b4fdb1b305840ac835cd
   "language": "python",
   "name": "python3"
  },
  "language_info": {
   "codemirror_mode": {
    "name": "ipython",
    "version": 3
   },
   "file_extension": ".py",
   "mimetype": "text/x-python",
   "name": "python",
   "nbconvert_exporter": "python",
   "pygments_lexer": "ipython3",
<<<<<<< HEAD
   "version": "3.6.5"
=======
   "version": "3.6.3"
>>>>>>> 9352bee0e42f12849428b4fdb1b305840ac835cd
  }
 },
 "nbformat": 4,
 "nbformat_minor": 2
}
